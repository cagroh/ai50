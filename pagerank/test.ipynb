{
 "cells": [
  {
   "cell_type": "code",
   "execution_count": 37,
   "id": "5644ca3d-8465-4210-9619-167aba1b5767",
   "metadata": {},
   "outputs": [],
   "source": [
    "a=set()\n",
    "b=dict()\n",
    "\n",
    "a = {\"1\":[]}\n",
    "b = []\n",
    "\n"
   ]
  },
  {
   "cell_type": "code",
   "execution_count": 38,
   "id": "675efb29-701f-4d6b-b054-143742e2c1f2",
   "metadata": {},
   "outputs": [
    {
     "name": "stdout",
     "output_type": "stream",
     "text": [
      "{'1': []}\n",
      "[]\n"
     ]
    }
   ],
   "source": [
    "print (a)\n",
    "print (b)"
   ]
  },
  {
   "cell_type": "code",
   "execution_count": 17,
   "id": "b62bd023-6451-4e53-80ab-73b8af6b53f7",
   "metadata": {},
   "outputs": [],
   "source": [
    "a['1']=b"
   ]
  },
  {
   "cell_type": "code",
   "execution_count": 39,
   "id": "c2df4918-c67b-476c-8dcd-0be4ea4fe42f",
   "metadata": {},
   "outputs": [
    {
     "name": "stdout",
     "output_type": "stream",
     "text": [
      "{'1': []} []\n"
     ]
    }
   ],
   "source": [
    "print (a, b)"
   ]
  },
  {
   "cell_type": "code",
   "execution_count": 40,
   "id": "f26dc0db-94f9-4eb0-8ecb-41bbd289301d",
   "metadata": {},
   "outputs": [],
   "source": [
    "a['1'].append(7)"
   ]
  },
  {
   "cell_type": "code",
   "execution_count": 41,
   "id": "61233f49-e10d-4a1b-93ae-f9fcc662ea81",
   "metadata": {},
   "outputs": [
    {
     "name": "stdout",
     "output_type": "stream",
     "text": [
      "{'1': [7]} []\n"
     ]
    }
   ],
   "source": [
    "print (a, b)"
   ]
  },
  {
   "cell_type": "code",
   "execution_count": 7,
   "id": "9dacdcd8-6de9-4a01-9797-b782d5f8ba9d",
   "metadata": {},
   "outputs": [],
   "source": [
    "x={'1.html': ['2.html','3.html'], '2.html': ['3.html'], '3.html': ['2.html'], '4.html':[]}"
   ]
  },
  {
   "cell_type": "code",
   "execution_count": 2,
   "id": "cf4899dc-5266-4b98-86ec-ddec5b489308",
   "metadata": {},
   "outputs": [],
   "source": [
    "import random as rd"
   ]
  },
  {
   "cell_type": "code",
   "execution_count": 8,
   "id": "67cbc2f9-d587-45b8-b836-12ec3e3f8359",
   "metadata": {},
   "outputs": [
    {
     "name": "stdout",
     "output_type": "stream",
     "text": [
      "dict_keys(['1.html', '2.html', '3.html', '4.html'])\n"
     ]
    },
    {
     "ename": "TypeError",
     "evalue": "can only concatenate list (not \"float\") to list",
     "output_type": "error",
     "traceback": [
      "\u001b[1;31m---------------------------------------------------------------------------\u001b[0m",
      "\u001b[1;31mTypeError\u001b[0m                                 Traceback (most recent call last)",
      "Input \u001b[1;32mIn [8]\u001b[0m, in \u001b[0;36m<cell line: 2>\u001b[1;34m()\u001b[0m\n\u001b[0;32m      1\u001b[0m \u001b[38;5;28mprint\u001b[39m (x\u001b[38;5;241m.\u001b[39mkeys())\n\u001b[1;32m----> 2\u001b[0m \u001b[38;5;28mprint\u001b[39m (\u001b[43mrd\u001b[49m\u001b[38;5;241;43m.\u001b[39;49m\u001b[43mchoices\u001b[49m\u001b[43m(\u001b[49m\u001b[38;5;28;43mlist\u001b[39;49m\u001b[43m(\u001b[49m\u001b[43mx\u001b[49m\u001b[38;5;241;43m.\u001b[39;49m\u001b[43mkeys\u001b[49m\u001b[43m(\u001b[49m\u001b[43m)\u001b[49m\u001b[43m)\u001b[49m\u001b[43m,\u001b[49m\u001b[43m \u001b[49m\u001b[43mweights\u001b[49m\u001b[38;5;241;43m=\u001b[39;49m\u001b[38;5;28;43mlist\u001b[39;49m\u001b[43m(\u001b[49m\u001b[43mx\u001b[49m\u001b[38;5;241;43m.\u001b[39;49m\u001b[43mvalues\u001b[49m\u001b[43m(\u001b[49m\u001b[43m)\u001b[49m\u001b[43m)\u001b[49m\u001b[43m)\u001b[49m)\n",
      "File \u001b[1;32mD:\\Documents\\Anaconda3\\envs\\ai50\\lib\\random.py:406\u001b[0m, in \u001b[0;36mRandom.choices\u001b[1;34m(self, population, weights, cum_weights, k)\u001b[0m\n\u001b[0;32m    404\u001b[0m     \u001b[38;5;28;01mraise\u001b[39;00m \u001b[38;5;167;01mValueError\u001b[39;00m(\u001b[38;5;124m'\u001b[39m\u001b[38;5;124mThe number of weights does not match the population\u001b[39m\u001b[38;5;124m'\u001b[39m)\n\u001b[0;32m    405\u001b[0m bisect \u001b[38;5;241m=\u001b[39m _bisect\n\u001b[1;32m--> 406\u001b[0m total \u001b[38;5;241m=\u001b[39m \u001b[43mcum_weights\u001b[49m\u001b[43m[\u001b[49m\u001b[38;5;241;43m-\u001b[39;49m\u001b[38;5;241;43m1\u001b[39;49m\u001b[43m]\u001b[49m\u001b[43m \u001b[49m\u001b[38;5;241;43m+\u001b[39;49m\u001b[43m \u001b[49m\u001b[38;5;241;43m0.0\u001b[39;49m   \u001b[38;5;66;03m# convert to float\u001b[39;00m\n\u001b[0;32m    407\u001b[0m hi \u001b[38;5;241m=\u001b[39m n \u001b[38;5;241m-\u001b[39m \u001b[38;5;241m1\u001b[39m\n\u001b[0;32m    408\u001b[0m \u001b[38;5;28;01mreturn\u001b[39;00m [population[bisect(cum_weights, random() \u001b[38;5;241m*\u001b[39m total, \u001b[38;5;241m0\u001b[39m, hi)]\n\u001b[0;32m    409\u001b[0m         \u001b[38;5;28;01mfor\u001b[39;00m i \u001b[38;5;129;01min\u001b[39;00m _repeat(\u001b[38;5;28;01mNone\u001b[39;00m, k)]\n",
      "\u001b[1;31mTypeError\u001b[0m: can only concatenate list (not \"float\") to list"
     ]
    }
   ],
   "source": [
    "print (x.keys())\n",
    "print (rd.choices(list(x.keys()), weights=list(x.values())))\n"
   ]
  },
  {
   "cell_type": "code",
   "execution_count": 9,
   "id": "3c2e6e8f-4bee-4471-8846-b0651a397d3b",
   "metadata": {},
   "outputs": [
    {
     "name": "stdout",
     "output_type": "stream",
     "text": [
      "['3.html']\n"
     ]
    }
   ],
   "source": [
    "print (x['2.html'])"
   ]
  },
  {
   "cell_type": "code",
   "execution_count": 10,
   "id": "86a0c7b0-342b-40fe-9585-9f88ca2a4745",
   "metadata": {},
   "outputs": [
    {
     "name": "stdout",
     "output_type": "stream",
     "text": [
      "dict_values([['2.html', '3.html'], ['3.html'], ['2.html'], []])\n"
     ]
    }
   ],
   "source": [
    "print (x.values())"
   ]
  },
  {
   "cell_type": "code",
   "execution_count": 68,
   "id": "d1d9fb3b-21c3-4ed6-a507-08efd7c01b01",
   "metadata": {},
   "outputs": [],
   "source": [
    "count = 0"
   ]
  },
  {
   "cell_type": "code",
   "execution_count": 69,
   "id": "611f2ffe-7a97-4e73-bebd-a99734f637da",
   "metadata": {},
   "outputs": [
    {
     "name": "stdout",
     "output_type": "stream",
     "text": [
      "FALSE\n"
     ]
    }
   ],
   "source": [
    "if count:\n",
    "    print ('TRUE')\n",
    "else:\n",
    "    print (\"FALSE\")"
   ]
  },
  {
   "cell_type": "code",
   "execution_count": 70,
   "id": "a2c27f0b-ae23-4080-8309-4bbcb928fe96",
   "metadata": {},
   "outputs": [],
   "source": [
    "a=True\n",
    "b=True\n",
    "c = a == b"
   ]
  },
  {
   "cell_type": "code",
   "execution_count": 71,
   "id": "f236f68f-8cd1-4061-9e69-7a2e3bab0731",
   "metadata": {},
   "outputs": [
    {
     "name": "stdout",
     "output_type": "stream",
     "text": [
      "True\n"
     ]
    }
   ],
   "source": [
    "print (c)"
   ]
  },
  {
   "cell_type": "code",
   "execution_count": null,
   "id": "dda8e97e-816f-4550-8e68-857aaf6aace7",
   "metadata": {},
   "outputs": [],
   "source": []
  }
 ],
 "metadata": {
  "kernelspec": {
   "display_name": "Python 3 (ipykernel)",
   "language": "python",
   "name": "python3"
  },
  "language_info": {
   "codemirror_mode": {
    "name": "ipython",
    "version": 3
   },
   "file_extension": ".py",
   "mimetype": "text/x-python",
   "name": "python",
   "nbconvert_exporter": "python",
   "pygments_lexer": "ipython3",
   "version": "3.8.8"
  }
 },
 "nbformat": 4,
 "nbformat_minor": 5
}
