{
 "cells": [
  {
   "cell_type": "code",
   "execution_count": null,
   "id": "3fb4abf1-f5e9-47be-a7a7-48f152318b0f",
   "metadata": {},
   "outputs": [],
   "source": [
    "s='(S\n",
    "  (NP (N we))\n",
    "  (VP\n",
    "    (VP (VP (VP (V arrived)) (NP (Det the) (N day))) (P before))\n",
    "    (NP (N thursday))))'"
   ]
  },
  {
   "cell_type": "code",
   "execution_count": 2,
   "id": "e60d69f2-2379-483c-bf92-f0f5026177a9",
   "metadata": {},
   "outputs": [
    {
     "name": "stdout",
     "output_type": "stream",
     "text": [
      "tree: (ROOT\n",
      "  (S\n",
      "    (NP (NNP Europe))\n",
      "    (VP (VBZ is) (PP (IN in) (NP (DT the) (JJ same) (NNS trends))))\n",
      "    (. .)))\n",
      "tree: (S\n",
      "  (NP (NNP Europe))\n",
      "  (VP (VBZ is) (PP (IN in) (NP (DT the) (JJ same) (NNS trends))))\n",
      "  (. .))\n",
      "tree: (NP (NNP Europe))\n",
      "tree: (NNP Europe)\n",
      "tree: (VP (VBZ is) (PP (IN in) (NP (DT the) (JJ same) (NNS trends))))\n",
      "tree: (VBZ is)\n",
      "tree: (PP (IN in) (NP (DT the) (JJ same) (NNS trends)))\n",
      "tree: (IN in)\n",
      "tree: (NP (DT the) (JJ same) (NNS trends))\n",
      "tree: (DT the)\n",
      "tree: (JJ same)\n",
      "tree: (NNS trends)\n",
      "tree: (. .)\n"
     ]
    }
   ],
   "source": [
    "import nltk\n",
    "s = '(ROOT (S (NP (NNP Europe)) (VP (VBZ is) (PP (IN in) (NP (DT the) (JJ same) (NNS trends)))) (. .)))'\n",
    "tree = nltk.tree.Tree.fromstring(s)\n",
    "def traverse_tree(tree):\n",
    "    print(\"tree:\", tree)\n",
    "    for subtree in tree:\n",
    "        if type(subtree) == nltk.tree.Tree:\n",
    "            traverse_tree(subtree)\n",
    "traverse_tree(tree)"
   ]
  },
  {
   "cell_type": "code",
   "execution_count": 17,
   "id": "36757b75-6fd9-45e3-855f-f22a80466c08",
   "metadata": {},
   "outputs": [
    {
     "name": "stdout",
     "output_type": "stream",
     "text": [
      "(NP (D the) (NP (V running) (N dog)))\n",
      "[Tree('NP', [Tree('D', ['the']), Tree('NP', [Tree('V', ['running']), Tree('N', ['dog'])])]), Tree('NP', [Tree('V', ['running']), Tree('N', ['dog'])])] 3\n",
      "(NP (V running) (N dog))\n",
      "[Tree('NP', [Tree('V', ['running']), Tree('N', ['dog'])])] 1\n",
      "(NP (D the) (N cat))\n",
      "[Tree('NP', [Tree('D', ['the']), Tree('N', ['cat'])])] 1\n"
     ]
    }
   ],
   "source": [
    "t = nltk.tree.Tree.fromstring(\"(S (NP (D the) (NP (V running) (N dog))) (VP (V chased) (NP (D the) (N cat))))\")\n",
    "for s in t.subtrees(lambda t: t.label() == 'NP'):\n",
    "    print(s)\n",
    "    x=str(list(s.subtrees(lambda t: t.label() == 'NP')))\n",
    "    print (x,x.count('NP')) "
   ]
  },
  {
   "cell_type": "code",
   "execution_count": null,
   "id": "47a1b549-17a1-4c3b-b773-5b8611d4f849",
   "metadata": {},
   "outputs": [],
   "source": []
  }
 ],
 "metadata": {
  "kernelspec": {
   "display_name": "Python 3 (ipykernel)",
   "language": "python",
   "name": "python3"
  },
  "language_info": {
   "codemirror_mode": {
    "name": "ipython",
    "version": 3
   },
   "file_extension": ".py",
   "mimetype": "text/x-python",
   "name": "python",
   "nbconvert_exporter": "python",
   "pygments_lexer": "ipython3",
   "version": "3.8.8"
  }
 },
 "nbformat": 4,
 "nbformat_minor": 5
}
