{
 "cells": [
  {
   "cell_type": "code",
   "execution_count": 72,
   "id": "3aa95b0f-4a8d-4683-b37c-380cae828e79",
   "metadata": {},
   "outputs": [
    {
     "name": "stdout",
     "output_type": "stream",
     "text": [
      "[1, 2, 3, 4]\n",
      "False\n"
     ]
    }
   ],
   "source": [
    "a=[1, 2, 3, 4]\n",
    "b=[2,3]\n",
    "\n",
    "print (a or b)\n",
    "print ((a or b) and not(a or b))"
   ]
  },
  {
   "cell_type": "code",
   "execution_count": 74,
   "id": "76e9f7d3-dffb-43b2-bf40-b48ff7f239c4",
   "metadata": {},
   "outputs": [
    {
     "name": "stdout",
     "output_type": "stream",
     "text": [
      "False\n"
     ]
    }
   ],
   "source": [
    "def xor(x, y):\n",
    "    return bool((x and not y) or (not x and y))\n",
    "\n",
    "print (xor(a,b))"
   ]
  },
  {
   "cell_type": "code",
   "execution_count": 75,
   "id": "947f5d5f-3724-434a-8ace-36bdeae39744",
   "metadata": {},
   "outputs": [
    {
     "name": "stdout",
     "output_type": "stream",
     "text": [
      "False\n",
      "True\n",
      "True\n",
      "False\n"
     ]
    }
   ],
   "source": [
    "print(xor(0,0))\n",
    "print(xor(0,1))\n",
    "print(xor(1,0))\n",
    "print(xor(1,1))"
   ]
  },
  {
   "cell_type": "code",
   "execution_count": 78,
   "id": "2712fe51-2347-4171-9cb4-6043a96f6744",
   "metadata": {},
   "outputs": [
    {
     "name": "stdout",
     "output_type": "stream",
     "text": [
      "False\n",
      "0\n"
     ]
    }
   ],
   "source": [
    "a = 1\n",
    "b = 1\n",
    "\n",
    "print (xor(a, b))\n",
    "print ((a ^ b) and not(a and b))"
   ]
  },
  {
   "cell_type": "code",
   "execution_count": null,
   "id": "9d9c5013-3dbb-4dbc-96c8-59fff4fdbe76",
   "metadata": {},
   "outputs": [],
   "source": []
  }
 ],
 "metadata": {
  "kernelspec": {
   "display_name": "Python 3 (ipykernel)",
   "language": "python",
   "name": "python3"
  },
  "language_info": {
   "codemirror_mode": {
    "name": "ipython",
    "version": 3
   },
   "file_extension": ".py",
   "mimetype": "text/x-python",
   "name": "python",
   "nbconvert_exporter": "python",
   "pygments_lexer": "ipython3",
   "version": "3.8.8"
  }
 },
 "nbformat": 4,
 "nbformat_minor": 5
}
