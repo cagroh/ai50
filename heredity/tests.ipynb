{
 "cells": [
  {
   "cell_type": "code",
   "execution_count": 3,
   "id": "6d6657ba-9163-406d-b906-2914651761ed",
   "metadata": {},
   "outputs": [
    {
     "name": "stdout",
     "output_type": "stream",
     "text": [
      "0.03\n"
     ]
    }
   ],
   "source": [
    "PROBS = {\n",
    "\n",
    "    # Unconditional probabilities for having gene\n",
    "    \"gene\": {\n",
    "        2: 0.01,\n",
    "        1: 0.03,\n",
    "        0: 0.96\n",
    "    }}\n",
    "\n",
    "print (PROBS[\"gene\"][1])"
   ]
  },
  {
   "cell_type": "code",
   "execution_count": null,
   "id": "63e6df96-602f-4b8e-b835-c5e26cc3c764",
   "metadata": {},
   "outputs": [],
   "source": []
  }
 ],
 "metadata": {
  "kernelspec": {
   "display_name": "Python 3 (ipykernel)",
   "language": "python",
   "name": "python3"
  },
  "language_info": {
   "codemirror_mode": {
    "name": "ipython",
    "version": 3
   },
   "file_extension": ".py",
   "mimetype": "text/x-python",
   "name": "python",
   "nbconvert_exporter": "python",
   "pygments_lexer": "ipython3",
   "version": "3.8.8"
  }
 },
 "nbformat": 4,
 "nbformat_minor": 5
}
